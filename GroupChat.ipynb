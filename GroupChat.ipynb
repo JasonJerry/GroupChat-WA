{
 "cells": [
  {
   "cell_type": "code",
   "execution_count": 45,
   "metadata": {},
   "outputs": [],
   "source": [
    "import os"
   ]
  },
  {
   "cell_type": "code",
   "execution_count": 46,
   "metadata": {},
   "outputs": [],
   "source": [
    "import re"
   ]
  },
  {
   "cell_type": "code",
   "execution_count": 47,
   "metadata": {},
   "outputs": [],
   "source": [
    "import pandas as pd"
   ]
  },
  {
   "cell_type": "code",
   "execution_count": 48,
   "metadata": {},
   "outputs": [],
   "source": [
    "import matplotlib.pyplot as plt"
   ]
  },
  {
   "cell_type": "code",
   "execution_count": 49,
   "metadata": {},
   "outputs": [],
   "source": [
    "link=\"C:\\\\Users\\\\Jason\\\\Downloads\\\\WhatsApp Chat with CSE A.txt\""
   ]
  },
  {
   "cell_type": "code",
   "execution_count": 50,
   "metadata": {},
   "outputs": [],
   "source": [
    "tit=link.split(\"\\\\\")"
   ]
  },
  {
   "cell_type": "code",
   "execution_count": 51,
   "metadata": {},
   "outputs": [],
   "source": [
    "title=tit[-1]"
   ]
  },
  {
   "cell_type": "code",
   "execution_count": 52,
   "metadata": {},
   "outputs": [],
   "source": [
    "title1=title[:len(title)-4:]"
   ]
  },
  {
   "cell_type": "code",
   "execution_count": 53,
   "metadata": {},
   "outputs": [
    {
     "name": "stdout",
     "output_type": "stream",
     "text": [
      "WhatsApp Chat with CSE A\n"
     ]
    }
   ],
   "source": [
    "print(title1)"
   ]
  },
  {
   "cell_type": "code",
   "execution_count": 54,
   "metadata": {},
   "outputs": [],
   "source": [
    "cht=open(link,encoding=\"utf8\")"
   ]
  },
  {
   "cell_type": "code",
   "execution_count": 55,
   "metadata": {},
   "outputs": [],
   "source": [
    "list_of_date_time_author_msg=[]"
   ]
  },
  {
   "cell_type": "code",
   "execution_count": 56,
   "metadata": {},
   "outputs": [],
   "source": [
    "total_msg=0"
   ]
  },
  {
   "cell_type": "code",
   "execution_count": 57,
   "metadata": {},
   "outputs": [],
   "source": [
    "total_msg_and_notification=0"
   ]
  },
  {
   "cell_type": "code",
   "execution_count": 58,
   "metadata": {},
   "outputs": [],
   "source": [
    "list_of_notification=[]"
   ]
  },
  {
   "cell_type": "code",
   "execution_count": 59,
   "metadata": {},
   "outputs": [],
   "source": [
    "total_valid_msg=0"
   ]
  },
  {
   "cell_type": "code",
   "execution_count": null,
   "metadata": {},
   "outputs": [],
   "source": []
  },
  {
   "cell_type": "code",
   "execution_count": 60,
   "metadata": {},
   "outputs": [],
   "source": [
    "def startsWithDate(s):\n",
    "\n",
    "    #ReGex finding date and time\n",
    "\n",
    "    pattern = \"^([0-2][0-9]|(3)[0-1])(\\/)(([0-9])|((0)[0-9])|((1)[0-2]))(\\/)(\\d{2}|\\d{4}), ([0-9][0-9]|[0-9]):([0-9][0-9])\"\n",
    "\n",
    "    result = re.match(pattern, s)\n",
    "\n",
    "    if result:\n",
    "\n",
    "        return True\n",
    "\n",
    "    return False"
   ]
  },
  {
   "cell_type": "code",
   "execution_count": 61,
   "metadata": {},
   "outputs": [],
   "source": [
    "def findColon(s):\n",
    "\n",
    "    n=len(s)\n",
    "\n",
    "    c=0\n",
    "\n",
    "    for i in range(n):\n",
    "\n",
    "        if s[i]==\":\":\n",
    "\n",
    "            c+=1\n",
    "\n",
    "    return c"
   ]
  },
  {
   "cell_type": "code",
   "execution_count": 62,
   "metadata": {},
   "outputs": [],
   "source": [
    "while 1:\n",
    "\n",
    "    rd=cht.readline()\n",
    "\n",
    "    if not rd:break\n",
    "\n",
    "        \n",
    "\n",
    "    total_msg_and_notification+=1\n",
    "\n",
    "    if startsWithDate(rd):#to know msg is start with date or no not.\n",
    "\n",
    "  \n",
    "\n",
    "        splitLine=rd.split(\"-\")\n",
    "\n",
    "        dateTime=splitLine[0]\n",
    "\n",
    "    \n",
    "\n",
    "        date,time=dateTime.split(',')\n",
    "\n",
    "        total_msg+=1\n",
    "\n",
    "    \n",
    "\n",
    "        if findColon(splitLine[1])>0:# to know this line is genuene msg or notification .\n",
    "\n",
    "            total_valid_msg+=1\n",
    "\n",
    "            authorMsg=splitLine[1].split(\":\")\n",
    "\n",
    "            \n",
    "\n",
    "     \n",
    "\n",
    "            author= authorMsg[0][:15]+\"..\"\n",
    "\n",
    "            msg=authorMsg[1::]\n",
    "\n",
    "            \n",
    "\n",
    "            list_of_date_time_author_msg.append([date,time,author,msg])\n",
    "\n",
    "        \n",
    "\n",
    "        else:\n",
    "\n",
    "            list_of_notification.append(splitLine[1])#collect all notification such as: some add someone,someone join this group via link etc.\n"
   ]
  },
  {
   "cell_type": "code",
   "execution_count": null,
   "metadata": {},
   "outputs": [],
   "source": []
  },
  {
   "cell_type": "code",
   "execution_count": 63,
   "metadata": {},
   "outputs": [
    {
     "name": "stdout",
     "output_type": "stream",
     "text": [
      "\n",
      "\n",
      "Total msg- 20661 \n",
      "Total valid msg- 20165 \n",
      "total_msg_and_notification 22282\n"
     ]
    }
   ],
   "source": [
    "print(\"\\n\\nTotal msg-\",total_msg,\"\\nTotal valid msg-\",total_valid_msg,\"\\ntotal_msg_and_notification\",total_msg_and_notification)"
   ]
  },
  {
   "cell_type": "code",
   "execution_count": 64,
   "metadata": {},
   "outputs": [],
   "source": [
    "df=pd.DataFrame(list_of_date_time_author_msg,columns=[\"Date\",\"Time\",\"GroupMember\",\"Message\"])"
   ]
  },
  {
   "cell_type": "code",
   "execution_count": 65,
   "metadata": {},
   "outputs": [],
   "source": [
    "l=dict(df['GroupMember'].value_counts())"
   ]
  },
  {
   "cell_type": "code",
   "execution_count": 66,
   "metadata": {},
   "outputs": [],
   "source": [
    "xval=[]\n",
    "\n",
    "yval=[]"
   ]
  },
  {
   "cell_type": "code",
   "execution_count": 67,
   "metadata": {},
   "outputs": [],
   "source": [
    "for x,y in l.items():\n",
    "\n",
    "    xval.append(x)\n",
    "\n",
    "    yval.append(y)"
   ]
  },
  {
   "cell_type": "code",
   "execution_count": null,
   "metadata": {},
   "outputs": [],
   "source": [
    "def showAll():\n",
    "    plt.figure(figsize=(len(l)*0.25,10))\n",
    "\n",
    "    plt.bar(xval,yval,width=0.8)\n",
    "\n",
    "    plt.title(\"Group: \"+title1)\n",
    "\n",
    "    plt.xlabel(\"Group Members\")\n",
    "\n",
    "    plt.ylabel(\"Number of messages\")\n",
    "\n",
    "    plt.xticks(xval,rotation=90)\n",
    "\n",
    "showAll()\n",
    "\n",
    "c3=0"
   ]
  },
  {
   "cell_type": "code",
   "execution_count": null,
   "metadata": {},
   "outputs": [],
   "source": []
  },
  {
   "cell_type": "code",
   "execution_count": null,
   "metadata": {},
   "outputs": [],
   "source": []
  }
 ],
 "metadata": {
  "kernelspec": {
   "display_name": "Python 3.7.3 64-bit ('base': conda)",
   "language": "python",
   "name": "python37364bitbaseconda7b1abf3168d144cf8109dff0533f9078"
  },
  "language_info": {
   "codemirror_mode": {
    "name": "ipython",
    "version": 3
   },
   "file_extension": ".py",
   "mimetype": "text/x-python",
   "name": "python",
   "nbconvert_exporter": "python",
   "pygments_lexer": "ipython3",
   "version": "3.7.6"
  }
 },
 "nbformat": 4,
 "nbformat_minor": 4
}
